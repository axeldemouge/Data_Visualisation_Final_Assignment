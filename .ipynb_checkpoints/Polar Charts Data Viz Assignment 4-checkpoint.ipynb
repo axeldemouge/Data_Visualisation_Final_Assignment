{
 "cells": [
  {
   "cell_type": "code",
   "execution_count": 31,
   "id": "fe85a205",
   "metadata": {},
   "outputs": [],
   "source": [
    "import pandas as pd\n",
    "df = pd.read_csv('Chocolate-Data-Set.csv')\n",
    "# Rename columns so their names are more appropriate for analysis.\n",
    "columns = {'REF'                             :'ref',\n",
    "           'Company (Manufacturer)'          :'company',\n",
    "           'Company Location'                :'company_location', \n",
    "           'Review Date'                     :'review_year',\n",
    "           'Country of Bean Origin'          :'country_bean_origin',\n",
    "           'Specific Bean Origin or Bar Name':'specific_bean_origin_or_bar_name',\n",
    "           'Cocoa Percent'                   :'percent_cocoa',\n",
    "           'Ingredients'                     :'ingredients', \n",
    "           'Most Memorable Characteristics'  :'characteristics',\n",
    "           'Rating'                          :'rating'}\n",
    "\n",
    "df.rename(columns = columns, inplace = True)\n",
    "# Remove percent sign and change value from integer to floating point.\n",
    "for idx, value in enumerate(df['percent_cocoa']):\n",
    "    df.loc[idx, 'percent_cocoa'] = float(df.loc[idx, 'percent_cocoa'].split('%')[0]) / 100.0\n",
    "# Replace nulls with an appropriate value.\n",
    "df.loc[:, 'ingredients'].fillna(value = 'unknown', inplace = True)\n",
    "df.drop(labels = 'ref', axis = 1, inplace = True)\n",
    "# Create a new column to store 'aka' names.\n",
    "df.insert(1, 'alt_company_name', '')\n",
    "for idx, value in enumerate(df.loc[:, 'company'].unique()):\n",
    "    if value.__contains__(' aka '):\n",
    "        df.loc[df['company'] == value, 'alt_company_name'] = value.split('aka')[1].strip()\n",
    "        df.loc[df['company'] == value, 'company']          = value.split('aka')[0].strip()\n",
    "# Fix several of the values so that they are the same level of granularity.\n",
    "old_values             = ['Wales', 'Amsterdam', 'Scotland', 'Sao Tome']\n",
    "new_values             = ['U.K.', 'Netherlands', 'U.K.', 'Sao Tome & Principe']\n",
    "df['company_location'] = df['company_location'].replace(old_values, new_values)\n",
    "# Create a new column to store 'intra' chocolate bars.\n",
    "df.insert(5, 'intra_country_prod', 0)\n",
    "for idx, value in enumerate(df.loc[:, 'company_location']):\n",
    "    if value == df.loc[idx, 'country_bean_origin']:\n",
    "        df.loc[idx, 'intra_country_prod'] = 1\n",
    "df.insert(9,  'num_ingredients', 0)\n",
    "df.insert(10, 'beans',           0)\n",
    "df.insert(11, 'sugar',           0)\n",
    "df.insert(12, 'sweetener_other', 0)\n",
    "df.insert(13, 'cocoa_butter',    0)\n",
    "df.insert(14, 'vanilla',         0)\n",
    "df.insert(15, 'lecithin',        0)\n",
    "df.insert(16, 'salt',            0)\n",
    "for idx, value in enumerate(df.loc[:, 'ingredients']):\n",
    "    if value == 'unknown': continue\n",
    "    else:\n",
    "        df.loc[idx, 'num_ingredients'] = value.split('-')[0].strip()\n",
    "        temp_ingredients_list          = value.split('-')[1].strip().split(',')\n",
    "        if 'B'  in temp_ingredients_list: df.loc[idx, 'beans']           = 1\n",
    "        if 'S'  in temp_ingredients_list: df.loc[idx, 'sugar']           = 1\n",
    "        if 'S*' in temp_ingredients_list: df.loc[idx, 'sweetener_other'] = 1\n",
    "        if 'C'  in temp_ingredients_list: df.loc[idx, 'cocoa_butter']    = 1\n",
    "        if 'V'  in temp_ingredients_list: df.loc[idx, 'vanilla']         = 1\n",
    "        if 'L'  in temp_ingredients_list: df.loc[idx, 'lecithin']        = 1\n",
    "        if 'Sa' in temp_ingredients_list: df.loc[idx, 'salt']            = 1\n",
    "df.drop('ingredients', axis = 1, inplace = True)\n",
    "def unique_words(df, column_name):\n",
    "    list1 = [df[column_name][idx].split(',') for idx in range(0, len(df[column_name]))]\n",
    "    list2 = [list1[idx1][idx2].strip().lower() for idx1, sublist in enumerate(list1) for idx2, word in enumerate(sublist)]\n",
    "    return list(set(list2))\n",
    "unique_characteristics = unique_words(df, 'characteristics')\n",
    "df.loc[:, 'review_year'].value_counts().sort_index()\n",
    "continents = pd.read_csv('Countries-Continents.csv')\n",
    "continents.head()\n",
    "continents.iloc[12]['Country']  = 'DR Congo'\n",
    "continents.iloc[39]['Country']  = 'Sao Tome & Principe'\n",
    "continents.iloc[72]['Country']  = 'South Korea'\n",
    "continents.iloc[85]['Country']  = 'Russia'\n",
    "continents.iloc[94]['Country']  = 'U.A.E.'\n",
    "continents.iloc[109]['Country'] = 'Czech Republic'\n",
    "continents.iloc[143]['Country'] = 'U.K.'\n",
    "continents.iloc[164]['Country'] = 'St. Lucia'\n",
    "continents.iloc[165]['Country'] = 'St.Vincent-Grenadines'\n",
    "continents.iloc[167]['Country'] = 'U.S.A.'\n",
    "\n",
    "continents.loc[len(continents.index)] = ['Asia', 'Taiwan']\n",
    "continents.loc[len(continents.index)] = ['North America', 'Puerto Rico']\n",
    "continents.loc[len(continents.index)] = ['North America', 'Martinique']\n",
    "df = df.merge(right = continents, how = 'left', left_on = 'company_location', right_on = 'Country')\n",
    "df.drop('Country', axis = 1, inplace = True)\n",
    "columns = {'Continent':'continent'}\n",
    "df.rename(columns = columns, inplace = True)"
   ]
  },
  {
   "cell_type": "code",
   "execution_count": 9,
   "id": "ce3e7e3f",
   "metadata": {},
   "outputs": [
    {
     "data": {
      "text/plain": [
       "array(['Tanzania', 'Dominican Republic', 'Madagascar', 'Fiji',\n",
       "       'Venezuela', 'Uganda', 'India', 'Bolivia', 'Peru', 'Panama',\n",
       "       'Colombia', 'Burma', 'Brazil', 'Papua New Guinea', 'Ecuador',\n",
       "       'Cuba', 'Togo', 'Sao Tome', 'Mexico', 'Vanuatu', 'Indonesia',\n",
       "       'Trinidad', 'Vietnam', 'Nicaragua', 'Ghana', 'Belize', 'Blend',\n",
       "       'Jamaica', 'Grenada', 'Guatemala', 'Honduras', 'Costa Rica',\n",
       "       'Haiti', 'Congo', 'Philippines', 'Solomon Islands', 'Malaysia',\n",
       "       'Sri Lanka', 'Ivory Coast', 'Gabon', 'Taiwan', 'Puerto Rico',\n",
       "       'Martinique', 'St. Lucia', 'Australia', 'Liberia', 'Sierra Leone',\n",
       "       'U.S.A.', 'Nigeria', 'St.Vincent-Grenadines', 'Thailand', 'Tobago',\n",
       "       'Sao Tome & Principe', 'Sumatra', 'El Salvador', 'Cameroon',\n",
       "       'Samoa', 'China', 'Principe', 'Sulawesi', 'Suriname', 'DR Congo'],\n",
       "      dtype=object)"
      ]
     },
     "execution_count": 9,
     "metadata": {},
     "output_type": "execute_result"
    }
   ],
   "source": [
    "df[\"country_bean_origin\"].unique()"
   ]
  },
  {
   "cell_type": "code",
   "execution_count": 51,
   "id": "0b4f4511",
   "metadata": {},
   "outputs": [],
   "source": [
    "def update(liste,coef):\n",
    "    return [elt*coef for elt in liste]"
   ]
  },
  {
   "cell_type": "code",
   "execution_count": 3,
   "id": "1ae1348b",
   "metadata": {},
   "outputs": [
    {
     "data": {
      "text/html": [
       "<div>\n",
       "<style scoped>\n",
       "    .dataframe tbody tr th:only-of-type {\n",
       "        vertical-align: middle;\n",
       "    }\n",
       "\n",
       "    .dataframe tbody tr th {\n",
       "        vertical-align: top;\n",
       "    }\n",
       "\n",
       "    .dataframe thead th {\n",
       "        text-align: right;\n",
       "    }\n",
       "</style>\n",
       "<table border=\"1\" class=\"dataframe\">\n",
       "  <thead>\n",
       "    <tr style=\"text-align: right;\">\n",
       "      <th></th>\n",
       "      <th>company</th>\n",
       "      <th>alt_company_name</th>\n",
       "      <th>company_location</th>\n",
       "      <th>review_year</th>\n",
       "      <th>country_bean_origin</th>\n",
       "      <th>intra_country_prod</th>\n",
       "      <th>specific_bean_origin_or_bar_name</th>\n",
       "      <th>percent_cocoa</th>\n",
       "      <th>num_ingredients</th>\n",
       "      <th>beans</th>\n",
       "      <th>sugar</th>\n",
       "      <th>sweetener_other</th>\n",
       "      <th>cocoa_butter</th>\n",
       "      <th>vanilla</th>\n",
       "      <th>lecithin</th>\n",
       "      <th>salt</th>\n",
       "      <th>characteristics</th>\n",
       "      <th>rating</th>\n",
       "      <th>continent</th>\n",
       "    </tr>\n",
       "  </thead>\n",
       "  <tbody>\n",
       "    <tr>\n",
       "      <th>0</th>\n",
       "      <td>5150</td>\n",
       "      <td></td>\n",
       "      <td>U.S.A.</td>\n",
       "      <td>2019</td>\n",
       "      <td>Tanzania</td>\n",
       "      <td>0</td>\n",
       "      <td>Kokoa Kamili, batch 1</td>\n",
       "      <td>0.76</td>\n",
       "      <td>3</td>\n",
       "      <td>1</td>\n",
       "      <td>1</td>\n",
       "      <td>0</td>\n",
       "      <td>1</td>\n",
       "      <td>0</td>\n",
       "      <td>0</td>\n",
       "      <td>0</td>\n",
       "      <td>rich cocoa, fatty, bready</td>\n",
       "      <td>3.25</td>\n",
       "      <td>North America</td>\n",
       "    </tr>\n",
       "    <tr>\n",
       "      <th>1</th>\n",
       "      <td>5150</td>\n",
       "      <td></td>\n",
       "      <td>U.S.A.</td>\n",
       "      <td>2019</td>\n",
       "      <td>Dominican Republic</td>\n",
       "      <td>0</td>\n",
       "      <td>Zorzal, batch 1</td>\n",
       "      <td>0.76</td>\n",
       "      <td>3</td>\n",
       "      <td>1</td>\n",
       "      <td>1</td>\n",
       "      <td>0</td>\n",
       "      <td>1</td>\n",
       "      <td>0</td>\n",
       "      <td>0</td>\n",
       "      <td>0</td>\n",
       "      <td>cocoa, vegetal, savory</td>\n",
       "      <td>3.50</td>\n",
       "      <td>North America</td>\n",
       "    </tr>\n",
       "    <tr>\n",
       "      <th>2</th>\n",
       "      <td>5150</td>\n",
       "      <td></td>\n",
       "      <td>U.S.A.</td>\n",
       "      <td>2019</td>\n",
       "      <td>Madagascar</td>\n",
       "      <td>0</td>\n",
       "      <td>Bejofo Estate, batch 1</td>\n",
       "      <td>0.76</td>\n",
       "      <td>3</td>\n",
       "      <td>1</td>\n",
       "      <td>1</td>\n",
       "      <td>0</td>\n",
       "      <td>1</td>\n",
       "      <td>0</td>\n",
       "      <td>0</td>\n",
       "      <td>0</td>\n",
       "      <td>cocoa, blackberry, full body</td>\n",
       "      <td>3.75</td>\n",
       "      <td>North America</td>\n",
       "    </tr>\n",
       "    <tr>\n",
       "      <th>3</th>\n",
       "      <td>5150</td>\n",
       "      <td></td>\n",
       "      <td>U.S.A.</td>\n",
       "      <td>2021</td>\n",
       "      <td>Fiji</td>\n",
       "      <td>0</td>\n",
       "      <td>Matasawalevu, batch 1</td>\n",
       "      <td>0.68</td>\n",
       "      <td>3</td>\n",
       "      <td>1</td>\n",
       "      <td>1</td>\n",
       "      <td>0</td>\n",
       "      <td>1</td>\n",
       "      <td>0</td>\n",
       "      <td>0</td>\n",
       "      <td>0</td>\n",
       "      <td>chewy, off, rubbery</td>\n",
       "      <td>3.00</td>\n",
       "      <td>North America</td>\n",
       "    </tr>\n",
       "    <tr>\n",
       "      <th>4</th>\n",
       "      <td>5150</td>\n",
       "      <td></td>\n",
       "      <td>U.S.A.</td>\n",
       "      <td>2021</td>\n",
       "      <td>Venezuela</td>\n",
       "      <td>0</td>\n",
       "      <td>Sur del Lago, batch 1</td>\n",
       "      <td>0.72</td>\n",
       "      <td>3</td>\n",
       "      <td>1</td>\n",
       "      <td>1</td>\n",
       "      <td>0</td>\n",
       "      <td>1</td>\n",
       "      <td>0</td>\n",
       "      <td>0</td>\n",
       "      <td>0</td>\n",
       "      <td>fatty, earthy, moss, nutty,chalky</td>\n",
       "      <td>3.00</td>\n",
       "      <td>North America</td>\n",
       "    </tr>\n",
       "  </tbody>\n",
       "</table>\n",
       "</div>"
      ],
      "text/plain": [
       "  company alt_company_name company_location  review_year country_bean_origin  \\\n",
       "0    5150                            U.S.A.         2019            Tanzania   \n",
       "1    5150                            U.S.A.         2019  Dominican Republic   \n",
       "2    5150                            U.S.A.         2019          Madagascar   \n",
       "3    5150                            U.S.A.         2021                Fiji   \n",
       "4    5150                            U.S.A.         2021           Venezuela   \n",
       "\n",
       "   intra_country_prod specific_bean_origin_or_bar_name percent_cocoa  \\\n",
       "0                   0            Kokoa Kamili, batch 1          0.76   \n",
       "1                   0                  Zorzal, batch 1          0.76   \n",
       "2                   0           Bejofo Estate, batch 1          0.76   \n",
       "3                   0            Matasawalevu, batch 1          0.68   \n",
       "4                   0            Sur del Lago, batch 1          0.72   \n",
       "\n",
       "  num_ingredients  beans  sugar  sweetener_other  cocoa_butter  vanilla  \\\n",
       "0               3      1      1                0             1        0   \n",
       "1               3      1      1                0             1        0   \n",
       "2               3      1      1                0             1        0   \n",
       "3               3      1      1                0             1        0   \n",
       "4               3      1      1                0             1        0   \n",
       "\n",
       "   lecithin  salt                    characteristics  rating      continent  \n",
       "0         0     0          rich cocoa, fatty, bready    3.25  North America  \n",
       "1         0     0             cocoa, vegetal, savory    3.50  North America  \n",
       "2         0     0       cocoa, blackberry, full body    3.75  North America  \n",
       "3         0     0                chewy, off, rubbery    3.00  North America  \n",
       "4         0     0  fatty, earthy, moss, nutty,chalky    3.00  North America  "
      ]
     },
     "execution_count": 3,
     "metadata": {},
     "output_type": "execute_result"
    }
   ],
   "source": [
    "df.head()"
   ]
  },
  {
   "cell_type": "code",
   "execution_count": 67,
   "id": "ba419038",
   "metadata": {},
   "outputs": [],
   "source": [
    "#Create the data for the chart\n",
    "#Random Examples depending on the choice of the user\n",
    "country_1 = \"Tanzania\"\n",
    "country_2 = \"Cuba\"\n",
    "countries = [country_1,country_2]\n",
    "#Filter the dataframe depending on these country\n",
    "df_countries_filtered = df[df.country_bean_origin.isin(countries)]\n",
    "#Keep the needed columns and groupby country to get averaged values\n",
    "df_countries_filtered = df_countries_filtered[[\"country_bean_origin\",\"salt\",\"lecithin\",\"sugar\",\"vanilla\",\"cocoa_butter\",\"sweetener_other\"]].groupby(\"country_bean_origin\").mean()\n",
    "#store values in a list\n",
    "list_countries = df_countries_filtered.to_numpy().tolist()\n",
    "country_1_values = update(list_countries[0],100)\n",
    "country_2_values = update(list_countries[1],100)"
   ]
  },
  {
   "cell_type": "code",
   "execution_count": 68,
   "id": "a603a56a",
   "metadata": {},
   "outputs": [
    {
     "name": "stdout",
     "output_type": "stream",
     "text": [
      "Continent 1 : Africa , Continent 2 : North America\n"
     ]
    }
   ],
   "source": [
    "#Get the average by continent \n",
    "continent_1 = continents.loc[continents['Country'] == country_1, 'Continent'].iloc[0]\n",
    "continent_2 = continents.loc[continents['Country'] == country_2, 'Continent'].iloc[0]\n",
    "print(f\"Continent 1 : {continent_1} , Continent 2 : {continent_2}\")\n",
    "continents_list = [continent_1,continent_2]\n",
    "#Filter the dataframe depending on these country\n",
    "df_continents_filtered = df[df.continent.isin(continents_list)]\n",
    "#Keep the needed columns and groupby country to get averaged values\n",
    "df_continents_filtered = df_continents_filtered[[\"continent\",\"salt\",\"lecithin\",\"sugar\",\"vanilla\",\"cocoa_butter\",\"sweetener_other\"]].groupby(\"continent\").mean()\n",
    "#Usable values\n",
    "list_continents = df_continents_filtered.to_numpy().tolist()\n",
    "continents_1_values = update(list_continents[0],100)\n",
    "continents_2_values = update(list_continents[1],100)\n"
   ]
  },
  {
   "cell_type": "code",
   "execution_count": 90,
   "id": "adde9f01",
   "metadata": {},
   "outputs": [
    {
     "data": {
      "application/vnd.plotly.v1+json": {
       "config": {
        "plotlyServerURL": "https://plot.ly"
       },
       "data": [
        {
         "fill": "toself",
         "name": "Tanzania",
         "r": [
          0,
          58.333333333333336,
          100,
          25,
          91.66666666666666,
          0
         ],
         "theta": [
          "Salt",
          "Lecithin",
          "Sugar",
          "Vanilla",
          "Cocoa Butter",
          "Other Sweetener"
         ],
         "type": "scatterpolar"
        },
        {
         "fill": "none",
         "name": "Average in Africa",
         "r": [
          0,
          50,
          80,
          23.333333333333332,
          76.66666666666667,
          3.3333333333333335
         ],
         "theta": [
          "Salt",
          "Lecithin",
          "Sugar",
          "Vanilla",
          "Cocoa Butter",
          "Other Sweetener"
         ],
         "type": "scatterpolar"
        },
        {
         "fill": "toself",
         "name": "Cuba",
         "r": [
          0,
          6.329113924050633,
          93.67088607594937,
          2.5316455696202533,
          51.89873417721519,
          5.063291139240507
         ],
         "subplot": "polar2",
         "theta": [
          "Salt",
          "Lecithin",
          "Sugar",
          "Vanilla",
          "Cocoa Butter",
          "Other Sweetener"
         ],
         "type": "scatterpolar"
        },
        {
         "fill": "none",
         "name": "Average in North America",
         "r": [
          0.8670520231213872,
          10.115606936416185,
          95.59248554913295,
          14.234104046242773,
          58.887283236994215,
          2.6734104046242777
         ],
         "subplot": "polar2",
         "theta": [
          "Salt",
          "Lecithin",
          "Sugar",
          "Vanilla",
          "Cocoa Butter",
          "Other Sweetener"
         ],
         "type": "scatterpolar"
        }
       ],
       "layout": {
        "legend": {
         "orientation": "h",
         "x": 0.12,
         "xanchor": "auto",
         "yanchor": "auto"
        },
        "polar": {
         "domain": {
          "x": [
           0,
           0.45
          ],
          "y": [
           0,
           1
          ]
         },
         "radialaxis": {
          "range": [
           0,
           100
          ],
          "visible": true
         }
        },
        "polar2": {
         "domain": {
          "x": [
           0.55,
           1
          ],
          "y": [
           0,
           1
          ]
         },
         "radialaxis": {
          "range": [
           0,
           100
          ],
          "visible": true
         }
        },
        "showlegend": true,
        "template": {
         "data": {
          "bar": [
           {
            "error_x": {
             "color": "#2a3f5f"
            },
            "error_y": {
             "color": "#2a3f5f"
            },
            "marker": {
             "line": {
              "color": "#E5ECF6",
              "width": 0.5
             },
             "pattern": {
              "fillmode": "overlay",
              "size": 10,
              "solidity": 0.2
             }
            },
            "type": "bar"
           }
          ],
          "barpolar": [
           {
            "marker": {
             "line": {
              "color": "#E5ECF6",
              "width": 0.5
             },
             "pattern": {
              "fillmode": "overlay",
              "size": 10,
              "solidity": 0.2
             }
            },
            "type": "barpolar"
           }
          ],
          "carpet": [
           {
            "aaxis": {
             "endlinecolor": "#2a3f5f",
             "gridcolor": "white",
             "linecolor": "white",
             "minorgridcolor": "white",
             "startlinecolor": "#2a3f5f"
            },
            "baxis": {
             "endlinecolor": "#2a3f5f",
             "gridcolor": "white",
             "linecolor": "white",
             "minorgridcolor": "white",
             "startlinecolor": "#2a3f5f"
            },
            "type": "carpet"
           }
          ],
          "choropleth": [
           {
            "colorbar": {
             "outlinewidth": 0,
             "ticks": ""
            },
            "type": "choropleth"
           }
          ],
          "contour": [
           {
            "colorbar": {
             "outlinewidth": 0,
             "ticks": ""
            },
            "colorscale": [
             [
              0,
              "#0d0887"
             ],
             [
              0.1111111111111111,
              "#46039f"
             ],
             [
              0.2222222222222222,
              "#7201a8"
             ],
             [
              0.3333333333333333,
              "#9c179e"
             ],
             [
              0.4444444444444444,
              "#bd3786"
             ],
             [
              0.5555555555555556,
              "#d8576b"
             ],
             [
              0.6666666666666666,
              "#ed7953"
             ],
             [
              0.7777777777777778,
              "#fb9f3a"
             ],
             [
              0.8888888888888888,
              "#fdca26"
             ],
             [
              1,
              "#f0f921"
             ]
            ],
            "type": "contour"
           }
          ],
          "contourcarpet": [
           {
            "colorbar": {
             "outlinewidth": 0,
             "ticks": ""
            },
            "type": "contourcarpet"
           }
          ],
          "heatmap": [
           {
            "colorbar": {
             "outlinewidth": 0,
             "ticks": ""
            },
            "colorscale": [
             [
              0,
              "#0d0887"
             ],
             [
              0.1111111111111111,
              "#46039f"
             ],
             [
              0.2222222222222222,
              "#7201a8"
             ],
             [
              0.3333333333333333,
              "#9c179e"
             ],
             [
              0.4444444444444444,
              "#bd3786"
             ],
             [
              0.5555555555555556,
              "#d8576b"
             ],
             [
              0.6666666666666666,
              "#ed7953"
             ],
             [
              0.7777777777777778,
              "#fb9f3a"
             ],
             [
              0.8888888888888888,
              "#fdca26"
             ],
             [
              1,
              "#f0f921"
             ]
            ],
            "type": "heatmap"
           }
          ],
          "heatmapgl": [
           {
            "colorbar": {
             "outlinewidth": 0,
             "ticks": ""
            },
            "colorscale": [
             [
              0,
              "#0d0887"
             ],
             [
              0.1111111111111111,
              "#46039f"
             ],
             [
              0.2222222222222222,
              "#7201a8"
             ],
             [
              0.3333333333333333,
              "#9c179e"
             ],
             [
              0.4444444444444444,
              "#bd3786"
             ],
             [
              0.5555555555555556,
              "#d8576b"
             ],
             [
              0.6666666666666666,
              "#ed7953"
             ],
             [
              0.7777777777777778,
              "#fb9f3a"
             ],
             [
              0.8888888888888888,
              "#fdca26"
             ],
             [
              1,
              "#f0f921"
             ]
            ],
            "type": "heatmapgl"
           }
          ],
          "histogram": [
           {
            "marker": {
             "pattern": {
              "fillmode": "overlay",
              "size": 10,
              "solidity": 0.2
             }
            },
            "type": "histogram"
           }
          ],
          "histogram2d": [
           {
            "colorbar": {
             "outlinewidth": 0,
             "ticks": ""
            },
            "colorscale": [
             [
              0,
              "#0d0887"
             ],
             [
              0.1111111111111111,
              "#46039f"
             ],
             [
              0.2222222222222222,
              "#7201a8"
             ],
             [
              0.3333333333333333,
              "#9c179e"
             ],
             [
              0.4444444444444444,
              "#bd3786"
             ],
             [
              0.5555555555555556,
              "#d8576b"
             ],
             [
              0.6666666666666666,
              "#ed7953"
             ],
             [
              0.7777777777777778,
              "#fb9f3a"
             ],
             [
              0.8888888888888888,
              "#fdca26"
             ],
             [
              1,
              "#f0f921"
             ]
            ],
            "type": "histogram2d"
           }
          ],
          "histogram2dcontour": [
           {
            "colorbar": {
             "outlinewidth": 0,
             "ticks": ""
            },
            "colorscale": [
             [
              0,
              "#0d0887"
             ],
             [
              0.1111111111111111,
              "#46039f"
             ],
             [
              0.2222222222222222,
              "#7201a8"
             ],
             [
              0.3333333333333333,
              "#9c179e"
             ],
             [
              0.4444444444444444,
              "#bd3786"
             ],
             [
              0.5555555555555556,
              "#d8576b"
             ],
             [
              0.6666666666666666,
              "#ed7953"
             ],
             [
              0.7777777777777778,
              "#fb9f3a"
             ],
             [
              0.8888888888888888,
              "#fdca26"
             ],
             [
              1,
              "#f0f921"
             ]
            ],
            "type": "histogram2dcontour"
           }
          ],
          "mesh3d": [
           {
            "colorbar": {
             "outlinewidth": 0,
             "ticks": ""
            },
            "type": "mesh3d"
           }
          ],
          "parcoords": [
           {
            "line": {
             "colorbar": {
              "outlinewidth": 0,
              "ticks": ""
             }
            },
            "type": "parcoords"
           }
          ],
          "pie": [
           {
            "automargin": true,
            "type": "pie"
           }
          ],
          "scatter": [
           {
            "marker": {
             "colorbar": {
              "outlinewidth": 0,
              "ticks": ""
             }
            },
            "type": "scatter"
           }
          ],
          "scatter3d": [
           {
            "line": {
             "colorbar": {
              "outlinewidth": 0,
              "ticks": ""
             }
            },
            "marker": {
             "colorbar": {
              "outlinewidth": 0,
              "ticks": ""
             }
            },
            "type": "scatter3d"
           }
          ],
          "scattercarpet": [
           {
            "marker": {
             "colorbar": {
              "outlinewidth": 0,
              "ticks": ""
             }
            },
            "type": "scattercarpet"
           }
          ],
          "scattergeo": [
           {
            "marker": {
             "colorbar": {
              "outlinewidth": 0,
              "ticks": ""
             }
            },
            "type": "scattergeo"
           }
          ],
          "scattergl": [
           {
            "marker": {
             "colorbar": {
              "outlinewidth": 0,
              "ticks": ""
             }
            },
            "type": "scattergl"
           }
          ],
          "scattermapbox": [
           {
            "marker": {
             "colorbar": {
              "outlinewidth": 0,
              "ticks": ""
             }
            },
            "type": "scattermapbox"
           }
          ],
          "scatterpolar": [
           {
            "marker": {
             "colorbar": {
              "outlinewidth": 0,
              "ticks": ""
             }
            },
            "type": "scatterpolar"
           }
          ],
          "scatterpolargl": [
           {
            "marker": {
             "colorbar": {
              "outlinewidth": 0,
              "ticks": ""
             }
            },
            "type": "scatterpolargl"
           }
          ],
          "scatterternary": [
           {
            "marker": {
             "colorbar": {
              "outlinewidth": 0,
              "ticks": ""
             }
            },
            "type": "scatterternary"
           }
          ],
          "surface": [
           {
            "colorbar": {
             "outlinewidth": 0,
             "ticks": ""
            },
            "colorscale": [
             [
              0,
              "#0d0887"
             ],
             [
              0.1111111111111111,
              "#46039f"
             ],
             [
              0.2222222222222222,
              "#7201a8"
             ],
             [
              0.3333333333333333,
              "#9c179e"
             ],
             [
              0.4444444444444444,
              "#bd3786"
             ],
             [
              0.5555555555555556,
              "#d8576b"
             ],
             [
              0.6666666666666666,
              "#ed7953"
             ],
             [
              0.7777777777777778,
              "#fb9f3a"
             ],
             [
              0.8888888888888888,
              "#fdca26"
             ],
             [
              1,
              "#f0f921"
             ]
            ],
            "type": "surface"
           }
          ],
          "table": [
           {
            "cells": {
             "fill": {
              "color": "#EBF0F8"
             },
             "line": {
              "color": "white"
             }
            },
            "header": {
             "fill": {
              "color": "#C8D4E3"
             },
             "line": {
              "color": "white"
             }
            },
            "type": "table"
           }
          ]
         },
         "layout": {
          "annotationdefaults": {
           "arrowcolor": "#2a3f5f",
           "arrowhead": 0,
           "arrowwidth": 1
          },
          "autotypenumbers": "strict",
          "coloraxis": {
           "colorbar": {
            "outlinewidth": 0,
            "ticks": ""
           }
          },
          "colorscale": {
           "diverging": [
            [
             0,
             "#8e0152"
            ],
            [
             0.1,
             "#c51b7d"
            ],
            [
             0.2,
             "#de77ae"
            ],
            [
             0.3,
             "#f1b6da"
            ],
            [
             0.4,
             "#fde0ef"
            ],
            [
             0.5,
             "#f7f7f7"
            ],
            [
             0.6,
             "#e6f5d0"
            ],
            [
             0.7,
             "#b8e186"
            ],
            [
             0.8,
             "#7fbc41"
            ],
            [
             0.9,
             "#4d9221"
            ],
            [
             1,
             "#276419"
            ]
           ],
           "sequential": [
            [
             0,
             "#0d0887"
            ],
            [
             0.1111111111111111,
             "#46039f"
            ],
            [
             0.2222222222222222,
             "#7201a8"
            ],
            [
             0.3333333333333333,
             "#9c179e"
            ],
            [
             0.4444444444444444,
             "#bd3786"
            ],
            [
             0.5555555555555556,
             "#d8576b"
            ],
            [
             0.6666666666666666,
             "#ed7953"
            ],
            [
             0.7777777777777778,
             "#fb9f3a"
            ],
            [
             0.8888888888888888,
             "#fdca26"
            ],
            [
             1,
             "#f0f921"
            ]
           ],
           "sequentialminus": [
            [
             0,
             "#0d0887"
            ],
            [
             0.1111111111111111,
             "#46039f"
            ],
            [
             0.2222222222222222,
             "#7201a8"
            ],
            [
             0.3333333333333333,
             "#9c179e"
            ],
            [
             0.4444444444444444,
             "#bd3786"
            ],
            [
             0.5555555555555556,
             "#d8576b"
            ],
            [
             0.6666666666666666,
             "#ed7953"
            ],
            [
             0.7777777777777778,
             "#fb9f3a"
            ],
            [
             0.8888888888888888,
             "#fdca26"
            ],
            [
             1,
             "#f0f921"
            ]
           ]
          },
          "colorway": [
           "#636efa",
           "#EF553B",
           "#00cc96",
           "#ab63fa",
           "#FFA15A",
           "#19d3f3",
           "#FF6692",
           "#B6E880",
           "#FF97FF",
           "#FECB52"
          ],
          "font": {
           "color": "#2a3f5f"
          },
          "geo": {
           "bgcolor": "white",
           "lakecolor": "white",
           "landcolor": "#E5ECF6",
           "showlakes": true,
           "showland": true,
           "subunitcolor": "white"
          },
          "hoverlabel": {
           "align": "left"
          },
          "hovermode": "closest",
          "mapbox": {
           "style": "light"
          },
          "paper_bgcolor": "white",
          "plot_bgcolor": "#E5ECF6",
          "polar": {
           "angularaxis": {
            "gridcolor": "white",
            "linecolor": "white",
            "ticks": ""
           },
           "bgcolor": "#E5ECF6",
           "radialaxis": {
            "gridcolor": "white",
            "linecolor": "white",
            "ticks": ""
           }
          },
          "scene": {
           "xaxis": {
            "backgroundcolor": "#E5ECF6",
            "gridcolor": "white",
            "gridwidth": 2,
            "linecolor": "white",
            "showbackground": true,
            "ticks": "",
            "zerolinecolor": "white"
           },
           "yaxis": {
            "backgroundcolor": "#E5ECF6",
            "gridcolor": "white",
            "gridwidth": 2,
            "linecolor": "white",
            "showbackground": true,
            "ticks": "",
            "zerolinecolor": "white"
           },
           "zaxis": {
            "backgroundcolor": "#E5ECF6",
            "gridcolor": "white",
            "gridwidth": 2,
            "linecolor": "white",
            "showbackground": true,
            "ticks": "",
            "zerolinecolor": "white"
           }
          },
          "shapedefaults": {
           "line": {
            "color": "#2a3f5f"
           }
          },
          "ternary": {
           "aaxis": {
            "gridcolor": "white",
            "linecolor": "white",
            "ticks": ""
           },
           "baxis": {
            "gridcolor": "white",
            "linecolor": "white",
            "ticks": ""
           },
           "bgcolor": "#E5ECF6",
           "caxis": {
            "gridcolor": "white",
            "linecolor": "white",
            "ticks": ""
           }
          },
          "title": {
           "x": 0.05
          },
          "xaxis": {
           "automargin": true,
           "gridcolor": "white",
           "linecolor": "white",
           "ticks": "",
           "title": {
            "standoff": 15
           },
           "zerolinecolor": "white",
           "zerolinewidth": 2
          },
          "yaxis": {
           "automargin": true,
           "gridcolor": "white",
           "linecolor": "white",
           "ticks": "",
           "title": {
            "standoff": 15
           },
           "zerolinecolor": "white",
           "zerolinewidth": 2
          }
         }
        },
        "title": {
         "text": "Average use of sweeteners in chocolate bars from beans of Tanzania and Cuba",
         "x": 0.5,
         "xref": "container"
        }
       }
      },
      "text/html": [
       "<div>                            <div id=\"44c0fcbf-f56d-4300-8bbd-aceccd2dd018\" class=\"plotly-graph-div\" style=\"height:525px; width:100%;\"></div>            <script type=\"text/javascript\">                require([\"plotly\"], function(Plotly) {                    window.PLOTLYENV=window.PLOTLYENV || {};                                    if (document.getElementById(\"44c0fcbf-f56d-4300-8bbd-aceccd2dd018\")) {                    Plotly.newPlot(                        \"44c0fcbf-f56d-4300-8bbd-aceccd2dd018\",                        [{\"fill\":\"toself\",\"name\":\"Tanzania\",\"r\":[0.0,58.333333333333336,100.0,25.0,91.66666666666666,0.0],\"theta\":[\"Salt\",\"Lecithin\",\"Sugar\",\"Vanilla\",\"Cocoa Butter\",\"Other Sweetener\"],\"type\":\"scatterpolar\"},{\"fill\":\"none\",\"name\":\"Average in Africa\",\"r\":[0.0,50.0,80.0,23.333333333333332,76.66666666666667,3.3333333333333335],\"theta\":[\"Salt\",\"Lecithin\",\"Sugar\",\"Vanilla\",\"Cocoa Butter\",\"Other Sweetener\"],\"type\":\"scatterpolar\"},{\"fill\":\"toself\",\"name\":\"Cuba\",\"r\":[0.0,6.329113924050633,93.67088607594937,2.5316455696202533,51.89873417721519,5.063291139240507],\"subplot\":\"polar2\",\"theta\":[\"Salt\",\"Lecithin\",\"Sugar\",\"Vanilla\",\"Cocoa Butter\",\"Other Sweetener\"],\"type\":\"scatterpolar\"},{\"fill\":\"none\",\"name\":\"Average in North America\",\"r\":[0.8670520231213872,10.115606936416185,95.59248554913295,14.234104046242773,58.887283236994215,2.6734104046242777],\"subplot\":\"polar2\",\"theta\":[\"Salt\",\"Lecithin\",\"Sugar\",\"Vanilla\",\"Cocoa Butter\",\"Other Sweetener\"],\"type\":\"scatterpolar\"}],                        {\"template\":{\"data\":{\"bar\":[{\"error_x\":{\"color\":\"#2a3f5f\"},\"error_y\":{\"color\":\"#2a3f5f\"},\"marker\":{\"line\":{\"color\":\"#E5ECF6\",\"width\":0.5},\"pattern\":{\"fillmode\":\"overlay\",\"size\":10,\"solidity\":0.2}},\"type\":\"bar\"}],\"barpolar\":[{\"marker\":{\"line\":{\"color\":\"#E5ECF6\",\"width\":0.5},\"pattern\":{\"fillmode\":\"overlay\",\"size\":10,\"solidity\":0.2}},\"type\":\"barpolar\"}],\"carpet\":[{\"aaxis\":{\"endlinecolor\":\"#2a3f5f\",\"gridcolor\":\"white\",\"linecolor\":\"white\",\"minorgridcolor\":\"white\",\"startlinecolor\":\"#2a3f5f\"},\"baxis\":{\"endlinecolor\":\"#2a3f5f\",\"gridcolor\":\"white\",\"linecolor\":\"white\",\"minorgridcolor\":\"white\",\"startlinecolor\":\"#2a3f5f\"},\"type\":\"carpet\"}],\"choropleth\":[{\"colorbar\":{\"outlinewidth\":0,\"ticks\":\"\"},\"type\":\"choropleth\"}],\"contour\":[{\"colorbar\":{\"outlinewidth\":0,\"ticks\":\"\"},\"colorscale\":[[0.0,\"#0d0887\"],[0.1111111111111111,\"#46039f\"],[0.2222222222222222,\"#7201a8\"],[0.3333333333333333,\"#9c179e\"],[0.4444444444444444,\"#bd3786\"],[0.5555555555555556,\"#d8576b\"],[0.6666666666666666,\"#ed7953\"],[0.7777777777777778,\"#fb9f3a\"],[0.8888888888888888,\"#fdca26\"],[1.0,\"#f0f921\"]],\"type\":\"contour\"}],\"contourcarpet\":[{\"colorbar\":{\"outlinewidth\":0,\"ticks\":\"\"},\"type\":\"contourcarpet\"}],\"heatmap\":[{\"colorbar\":{\"outlinewidth\":0,\"ticks\":\"\"},\"colorscale\":[[0.0,\"#0d0887\"],[0.1111111111111111,\"#46039f\"],[0.2222222222222222,\"#7201a8\"],[0.3333333333333333,\"#9c179e\"],[0.4444444444444444,\"#bd3786\"],[0.5555555555555556,\"#d8576b\"],[0.6666666666666666,\"#ed7953\"],[0.7777777777777778,\"#fb9f3a\"],[0.8888888888888888,\"#fdca26\"],[1.0,\"#f0f921\"]],\"type\":\"heatmap\"}],\"heatmapgl\":[{\"colorbar\":{\"outlinewidth\":0,\"ticks\":\"\"},\"colorscale\":[[0.0,\"#0d0887\"],[0.1111111111111111,\"#46039f\"],[0.2222222222222222,\"#7201a8\"],[0.3333333333333333,\"#9c179e\"],[0.4444444444444444,\"#bd3786\"],[0.5555555555555556,\"#d8576b\"],[0.6666666666666666,\"#ed7953\"],[0.7777777777777778,\"#fb9f3a\"],[0.8888888888888888,\"#fdca26\"],[1.0,\"#f0f921\"]],\"type\":\"heatmapgl\"}],\"histogram\":[{\"marker\":{\"pattern\":{\"fillmode\":\"overlay\",\"size\":10,\"solidity\":0.2}},\"type\":\"histogram\"}],\"histogram2d\":[{\"colorbar\":{\"outlinewidth\":0,\"ticks\":\"\"},\"colorscale\":[[0.0,\"#0d0887\"],[0.1111111111111111,\"#46039f\"],[0.2222222222222222,\"#7201a8\"],[0.3333333333333333,\"#9c179e\"],[0.4444444444444444,\"#bd3786\"],[0.5555555555555556,\"#d8576b\"],[0.6666666666666666,\"#ed7953\"],[0.7777777777777778,\"#fb9f3a\"],[0.8888888888888888,\"#fdca26\"],[1.0,\"#f0f921\"]],\"type\":\"histogram2d\"}],\"histogram2dcontour\":[{\"colorbar\":{\"outlinewidth\":0,\"ticks\":\"\"},\"colorscale\":[[0.0,\"#0d0887\"],[0.1111111111111111,\"#46039f\"],[0.2222222222222222,\"#7201a8\"],[0.3333333333333333,\"#9c179e\"],[0.4444444444444444,\"#bd3786\"],[0.5555555555555556,\"#d8576b\"],[0.6666666666666666,\"#ed7953\"],[0.7777777777777778,\"#fb9f3a\"],[0.8888888888888888,\"#fdca26\"],[1.0,\"#f0f921\"]],\"type\":\"histogram2dcontour\"}],\"mesh3d\":[{\"colorbar\":{\"outlinewidth\":0,\"ticks\":\"\"},\"type\":\"mesh3d\"}],\"parcoords\":[{\"line\":{\"colorbar\":{\"outlinewidth\":0,\"ticks\":\"\"}},\"type\":\"parcoords\"}],\"pie\":[{\"automargin\":true,\"type\":\"pie\"}],\"scatter\":[{\"marker\":{\"colorbar\":{\"outlinewidth\":0,\"ticks\":\"\"}},\"type\":\"scatter\"}],\"scatter3d\":[{\"line\":{\"colorbar\":{\"outlinewidth\":0,\"ticks\":\"\"}},\"marker\":{\"colorbar\":{\"outlinewidth\":0,\"ticks\":\"\"}},\"type\":\"scatter3d\"}],\"scattercarpet\":[{\"marker\":{\"colorbar\":{\"outlinewidth\":0,\"ticks\":\"\"}},\"type\":\"scattercarpet\"}],\"scattergeo\":[{\"marker\":{\"colorbar\":{\"outlinewidth\":0,\"ticks\":\"\"}},\"type\":\"scattergeo\"}],\"scattergl\":[{\"marker\":{\"colorbar\":{\"outlinewidth\":0,\"ticks\":\"\"}},\"type\":\"scattergl\"}],\"scattermapbox\":[{\"marker\":{\"colorbar\":{\"outlinewidth\":0,\"ticks\":\"\"}},\"type\":\"scattermapbox\"}],\"scatterpolar\":[{\"marker\":{\"colorbar\":{\"outlinewidth\":0,\"ticks\":\"\"}},\"type\":\"scatterpolar\"}],\"scatterpolargl\":[{\"marker\":{\"colorbar\":{\"outlinewidth\":0,\"ticks\":\"\"}},\"type\":\"scatterpolargl\"}],\"scatterternary\":[{\"marker\":{\"colorbar\":{\"outlinewidth\":0,\"ticks\":\"\"}},\"type\":\"scatterternary\"}],\"surface\":[{\"colorbar\":{\"outlinewidth\":0,\"ticks\":\"\"},\"colorscale\":[[0.0,\"#0d0887\"],[0.1111111111111111,\"#46039f\"],[0.2222222222222222,\"#7201a8\"],[0.3333333333333333,\"#9c179e\"],[0.4444444444444444,\"#bd3786\"],[0.5555555555555556,\"#d8576b\"],[0.6666666666666666,\"#ed7953\"],[0.7777777777777778,\"#fb9f3a\"],[0.8888888888888888,\"#fdca26\"],[1.0,\"#f0f921\"]],\"type\":\"surface\"}],\"table\":[{\"cells\":{\"fill\":{\"color\":\"#EBF0F8\"},\"line\":{\"color\":\"white\"}},\"header\":{\"fill\":{\"color\":\"#C8D4E3\"},\"line\":{\"color\":\"white\"}},\"type\":\"table\"}]},\"layout\":{\"annotationdefaults\":{\"arrowcolor\":\"#2a3f5f\",\"arrowhead\":0,\"arrowwidth\":1},\"autotypenumbers\":\"strict\",\"coloraxis\":{\"colorbar\":{\"outlinewidth\":0,\"ticks\":\"\"}},\"colorscale\":{\"diverging\":[[0,\"#8e0152\"],[0.1,\"#c51b7d\"],[0.2,\"#de77ae\"],[0.3,\"#f1b6da\"],[0.4,\"#fde0ef\"],[0.5,\"#f7f7f7\"],[0.6,\"#e6f5d0\"],[0.7,\"#b8e186\"],[0.8,\"#7fbc41\"],[0.9,\"#4d9221\"],[1,\"#276419\"]],\"sequential\":[[0.0,\"#0d0887\"],[0.1111111111111111,\"#46039f\"],[0.2222222222222222,\"#7201a8\"],[0.3333333333333333,\"#9c179e\"],[0.4444444444444444,\"#bd3786\"],[0.5555555555555556,\"#d8576b\"],[0.6666666666666666,\"#ed7953\"],[0.7777777777777778,\"#fb9f3a\"],[0.8888888888888888,\"#fdca26\"],[1.0,\"#f0f921\"]],\"sequentialminus\":[[0.0,\"#0d0887\"],[0.1111111111111111,\"#46039f\"],[0.2222222222222222,\"#7201a8\"],[0.3333333333333333,\"#9c179e\"],[0.4444444444444444,\"#bd3786\"],[0.5555555555555556,\"#d8576b\"],[0.6666666666666666,\"#ed7953\"],[0.7777777777777778,\"#fb9f3a\"],[0.8888888888888888,\"#fdca26\"],[1.0,\"#f0f921\"]]},\"colorway\":[\"#636efa\",\"#EF553B\",\"#00cc96\",\"#ab63fa\",\"#FFA15A\",\"#19d3f3\",\"#FF6692\",\"#B6E880\",\"#FF97FF\",\"#FECB52\"],\"font\":{\"color\":\"#2a3f5f\"},\"geo\":{\"bgcolor\":\"white\",\"lakecolor\":\"white\",\"landcolor\":\"#E5ECF6\",\"showlakes\":true,\"showland\":true,\"subunitcolor\":\"white\"},\"hoverlabel\":{\"align\":\"left\"},\"hovermode\":\"closest\",\"mapbox\":{\"style\":\"light\"},\"paper_bgcolor\":\"white\",\"plot_bgcolor\":\"#E5ECF6\",\"polar\":{\"angularaxis\":{\"gridcolor\":\"white\",\"linecolor\":\"white\",\"ticks\":\"\"},\"bgcolor\":\"#E5ECF6\",\"radialaxis\":{\"gridcolor\":\"white\",\"linecolor\":\"white\",\"ticks\":\"\"}},\"scene\":{\"xaxis\":{\"backgroundcolor\":\"#E5ECF6\",\"gridcolor\":\"white\",\"gridwidth\":2,\"linecolor\":\"white\",\"showbackground\":true,\"ticks\":\"\",\"zerolinecolor\":\"white\"},\"yaxis\":{\"backgroundcolor\":\"#E5ECF6\",\"gridcolor\":\"white\",\"gridwidth\":2,\"linecolor\":\"white\",\"showbackground\":true,\"ticks\":\"\",\"zerolinecolor\":\"white\"},\"zaxis\":{\"backgroundcolor\":\"#E5ECF6\",\"gridcolor\":\"white\",\"gridwidth\":2,\"linecolor\":\"white\",\"showbackground\":true,\"ticks\":\"\",\"zerolinecolor\":\"white\"}},\"shapedefaults\":{\"line\":{\"color\":\"#2a3f5f\"}},\"ternary\":{\"aaxis\":{\"gridcolor\":\"white\",\"linecolor\":\"white\",\"ticks\":\"\"},\"baxis\":{\"gridcolor\":\"white\",\"linecolor\":\"white\",\"ticks\":\"\"},\"bgcolor\":\"#E5ECF6\",\"caxis\":{\"gridcolor\":\"white\",\"linecolor\":\"white\",\"ticks\":\"\"}},\"title\":{\"x\":0.05},\"xaxis\":{\"automargin\":true,\"gridcolor\":\"white\",\"linecolor\":\"white\",\"ticks\":\"\",\"title\":{\"standoff\":15},\"zerolinecolor\":\"white\",\"zerolinewidth\":2},\"yaxis\":{\"automargin\":true,\"gridcolor\":\"white\",\"linecolor\":\"white\",\"ticks\":\"\",\"title\":{\"standoff\":15},\"zerolinecolor\":\"white\",\"zerolinewidth\":2}}},\"polar\":{\"domain\":{\"x\":[0.0,0.45],\"y\":[0.0,1.0]},\"radialaxis\":{\"visible\":true,\"range\":[0,100]}},\"polar2\":{\"domain\":{\"x\":[0.55,1.0],\"y\":[0.0,1.0]},\"radialaxis\":{\"visible\":true,\"range\":[0,100]}},\"title\":{\"text\":\"Average use of sweeteners in chocolate bars from beans of Tanzania and Cuba\",\"xref\":\"container\",\"x\":0.5},\"legend\":{\"orientation\":\"h\",\"xanchor\":\"auto\",\"yanchor\":\"auto\",\"x\":0.12},\"showlegend\":true},                        {\"responsive\": true}                    ).then(function(){\n",
       "                            \n",
       "var gd = document.getElementById('44c0fcbf-f56d-4300-8bbd-aceccd2dd018');\n",
       "var x = new MutationObserver(function (mutations, observer) {{\n",
       "        var display = window.getComputedStyle(gd).display;\n",
       "        if (!display || display === 'none') {{\n",
       "            console.log([gd, 'removed!']);\n",
       "            Plotly.purge(gd);\n",
       "            observer.disconnect();\n",
       "        }}\n",
       "}});\n",
       "\n",
       "// Listen for the removal of the full notebook cells\n",
       "var notebookContainer = gd.closest('#notebook-container');\n",
       "if (notebookContainer) {{\n",
       "    x.observe(notebookContainer, {childList: true});\n",
       "}}\n",
       "\n",
       "// Listen for the clearing of the current output cell\n",
       "var outputEl = gd.closest('.output');\n",
       "if (outputEl) {{\n",
       "    x.observe(outputEl, {childList: true});\n",
       "}}\n",
       "\n",
       "                        })                };                });            </script>        </div>"
      ]
     },
     "metadata": {},
     "output_type": "display_data"
    }
   ],
   "source": [
    "import plotly.graph_objects as go\n",
    "from plotly.subplots import make_subplots\n",
    "\n",
    "fig = make_subplots(rows=1, cols=2, specs=[[{'type': 'polar'}]*2])\n",
    "\n",
    "categories = [\"Salt\",\"Lecithin\",\"Sugar\",\"Vanilla\",\"Cocoa Butter\",\"Other Sweetener\"]\n",
    "\n",
    "\n",
    "fig.add_trace(go.Scatterpolar(\n",
    "      r=country_1_values,\n",
    "      theta=categories,\n",
    "      fill='toself',\n",
    "      name=country_1\n",
    "))\n",
    "fig.add_trace(go.Scatterpolar(\n",
    "      r=continents_1_values,\n",
    "      theta=categories,\n",
    "      fill='none',\n",
    "      name=f'Average in {continent_1}'\n",
    "))\n",
    "\n",
    "fig.add_trace(go.Scatterpolar(\n",
    "      r=country_2_values,\n",
    "      theta=categories,\n",
    "      fill='toself',\n",
    "      name=country_2,subplot = \"polar2\"\n",
    "    ), 1, 2)\n",
    "fig.add_trace(go.Scatterpolar(\n",
    "      r=continents_2_values,\n",
    "      theta=categories,\n",
    "      fill='none',\n",
    "      name=f'Average in {continent_2}',subplot = \"polar2\"\n",
    "    ), 1, 2)\n",
    "\n",
    "\n",
    "\n",
    "\n",
    "fig.update_layout(\n",
    "  title=dict(text=f\"Average use of sweeteners in chocolate bars from beans of {country_1} and {country_2}\",xref='container',x=0.5),\n",
    "  polar=dict(\n",
    "    radialaxis=dict(\n",
    "      visible=True,\n",
    "      range=[0, 100]\n",
    "    )),\n",
    "    polar2 = dict(\n",
    "      radialaxis = dict(visible=True,\n",
    "      range = [0, 100]\n",
    "    )),\n",
    "  showlegend=True,\n",
    "    legend=dict(orientation ='h',xanchor='auto',yanchor='auto',x=0.12)\n",
    ")\n",
    "\n",
    "fig.show()"
   ]
  },
  {
   "cell_type": "code",
   "execution_count": 2,
   "id": "7c4e9ff3",
   "metadata": {},
   "outputs": [
    {
     "name": "stderr",
     "output_type": "stream",
     "text": [
      "2022-03-28 11:22:42.266 \n",
      "  \u001b[33m\u001b[1mWarning:\u001b[0m to view this Streamlit app on a browser, run it with the following\n",
      "  command:\n",
      "\n",
      "    streamlit run C:\\Users\\axeld\\anaconda3\\lib\\site-packages\\ipykernel_launcher.py [ARGUMENTS]\n"
     ]
    }
   ],
   "source": [
    "import streamlit as st\n",
    "categories = st.multiselect(\n",
    "     'Select your ingredients',\n",
    "     ['Lecithin','Salt','Sugar',\n",
    "           'Vanilla', 'Cocoa Butter', 'Other Sweetener'])\n",
    "#This allows the user to select suboptions for the charts (replace categories with the variable categories)\n",
    "#st.write('You selected:', categories)"
   ]
  },
  {
   "cell_type": "code",
   "execution_count": 9,
   "id": "346c8143",
   "metadata": {},
   "outputs": [
    {
     "data": {
      "text/html": [
       "<div>\n",
       "<style scoped>\n",
       "    .dataframe tbody tr th:only-of-type {\n",
       "        vertical-align: middle;\n",
       "    }\n",
       "\n",
       "    .dataframe tbody tr th {\n",
       "        vertical-align: top;\n",
       "    }\n",
       "\n",
       "    .dataframe thead th {\n",
       "        text-align: right;\n",
       "    }\n",
       "</style>\n",
       "<table border=\"1\" class=\"dataframe\">\n",
       "  <thead>\n",
       "    <tr style=\"text-align: right;\">\n",
       "      <th></th>\n",
       "      <th>company</th>\n",
       "      <th>alt_company_name</th>\n",
       "      <th>company_location</th>\n",
       "      <th>review_year</th>\n",
       "      <th>country_bean_origin</th>\n",
       "      <th>intra_country_prod</th>\n",
       "      <th>specific_bean_origin_or_bar_name</th>\n",
       "      <th>percent_cocoa</th>\n",
       "      <th>num_ingredients</th>\n",
       "      <th>beans</th>\n",
       "      <th>sugar</th>\n",
       "      <th>sweetener_other</th>\n",
       "      <th>cocoa_butter</th>\n",
       "      <th>vanilla</th>\n",
       "      <th>lecithin</th>\n",
       "      <th>salt</th>\n",
       "      <th>characteristics</th>\n",
       "      <th>rating</th>\n",
       "      <th>continent</th>\n",
       "    </tr>\n",
       "  </thead>\n",
       "  <tbody>\n",
       "    <tr>\n",
       "      <th>0</th>\n",
       "      <td>5150</td>\n",
       "      <td></td>\n",
       "      <td>U.S.A.</td>\n",
       "      <td>2019</td>\n",
       "      <td>Tanzania</td>\n",
       "      <td>0</td>\n",
       "      <td>Kokoa Kamili, batch 1</td>\n",
       "      <td>0.76</td>\n",
       "      <td>3</td>\n",
       "      <td>1</td>\n",
       "      <td>1</td>\n",
       "      <td>0</td>\n",
       "      <td>1</td>\n",
       "      <td>0</td>\n",
       "      <td>0</td>\n",
       "      <td>0</td>\n",
       "      <td>rich cocoa, fatty, bready</td>\n",
       "      <td>3.25</td>\n",
       "      <td>North America</td>\n",
       "    </tr>\n",
       "    <tr>\n",
       "      <th>1</th>\n",
       "      <td>5150</td>\n",
       "      <td></td>\n",
       "      <td>U.S.A.</td>\n",
       "      <td>2019</td>\n",
       "      <td>Dominican Republic</td>\n",
       "      <td>0</td>\n",
       "      <td>Zorzal, batch 1</td>\n",
       "      <td>0.76</td>\n",
       "      <td>3</td>\n",
       "      <td>1</td>\n",
       "      <td>1</td>\n",
       "      <td>0</td>\n",
       "      <td>1</td>\n",
       "      <td>0</td>\n",
       "      <td>0</td>\n",
       "      <td>0</td>\n",
       "      <td>cocoa, vegetal, savory</td>\n",
       "      <td>3.50</td>\n",
       "      <td>North America</td>\n",
       "    </tr>\n",
       "    <tr>\n",
       "      <th>2</th>\n",
       "      <td>5150</td>\n",
       "      <td></td>\n",
       "      <td>U.S.A.</td>\n",
       "      <td>2019</td>\n",
       "      <td>Madagascar</td>\n",
       "      <td>0</td>\n",
       "      <td>Bejofo Estate, batch 1</td>\n",
       "      <td>0.76</td>\n",
       "      <td>3</td>\n",
       "      <td>1</td>\n",
       "      <td>1</td>\n",
       "      <td>0</td>\n",
       "      <td>1</td>\n",
       "      <td>0</td>\n",
       "      <td>0</td>\n",
       "      <td>0</td>\n",
       "      <td>cocoa, blackberry, full body</td>\n",
       "      <td>3.75</td>\n",
       "      <td>North America</td>\n",
       "    </tr>\n",
       "    <tr>\n",
       "      <th>3</th>\n",
       "      <td>5150</td>\n",
       "      <td></td>\n",
       "      <td>U.S.A.</td>\n",
       "      <td>2021</td>\n",
       "      <td>Fiji</td>\n",
       "      <td>0</td>\n",
       "      <td>Matasawalevu, batch 1</td>\n",
       "      <td>0.68</td>\n",
       "      <td>3</td>\n",
       "      <td>1</td>\n",
       "      <td>1</td>\n",
       "      <td>0</td>\n",
       "      <td>1</td>\n",
       "      <td>0</td>\n",
       "      <td>0</td>\n",
       "      <td>0</td>\n",
       "      <td>chewy, off, rubbery</td>\n",
       "      <td>3.00</td>\n",
       "      <td>North America</td>\n",
       "    </tr>\n",
       "    <tr>\n",
       "      <th>4</th>\n",
       "      <td>5150</td>\n",
       "      <td></td>\n",
       "      <td>U.S.A.</td>\n",
       "      <td>2021</td>\n",
       "      <td>Venezuela</td>\n",
       "      <td>0</td>\n",
       "      <td>Sur del Lago, batch 1</td>\n",
       "      <td>0.72</td>\n",
       "      <td>3</td>\n",
       "      <td>1</td>\n",
       "      <td>1</td>\n",
       "      <td>0</td>\n",
       "      <td>1</td>\n",
       "      <td>0</td>\n",
       "      <td>0</td>\n",
       "      <td>0</td>\n",
       "      <td>fatty, earthy, moss, nutty,chalky</td>\n",
       "      <td>3.00</td>\n",
       "      <td>North America</td>\n",
       "    </tr>\n",
       "  </tbody>\n",
       "</table>\n",
       "</div>"
      ],
      "text/plain": [
       "  company alt_company_name company_location  review_year country_bean_origin  \\\n",
       "0    5150                            U.S.A.         2019            Tanzania   \n",
       "1    5150                            U.S.A.         2019  Dominican Republic   \n",
       "2    5150                            U.S.A.         2019          Madagascar   \n",
       "3    5150                            U.S.A.         2021                Fiji   \n",
       "4    5150                            U.S.A.         2021           Venezuela   \n",
       "\n",
       "   intra_country_prod specific_bean_origin_or_bar_name percent_cocoa  \\\n",
       "0                   0            Kokoa Kamili, batch 1          0.76   \n",
       "1                   0                  Zorzal, batch 1          0.76   \n",
       "2                   0           Bejofo Estate, batch 1          0.76   \n",
       "3                   0            Matasawalevu, batch 1          0.68   \n",
       "4                   0            Sur del Lago, batch 1          0.72   \n",
       "\n",
       "  num_ingredients  beans  sugar  sweetener_other  cocoa_butter  vanilla  \\\n",
       "0               3      1      1                0             1        0   \n",
       "1               3      1      1                0             1        0   \n",
       "2               3      1      1                0             1        0   \n",
       "3               3      1      1                0             1        0   \n",
       "4               3      1      1                0             1        0   \n",
       "\n",
       "   lecithin  salt                    characteristics  rating      continent  \n",
       "0         0     0          rich cocoa, fatty, bready    3.25  North America  \n",
       "1         0     0             cocoa, vegetal, savory    3.50  North America  \n",
       "2         0     0       cocoa, blackberry, full body    3.75  North America  \n",
       "3         0     0                chewy, off, rubbery    3.00  North America  \n",
       "4         0     0  fatty, earthy, moss, nutty,chalky    3.00  North America  "
      ]
     },
     "execution_count": 9,
     "metadata": {},
     "output_type": "execute_result"
    }
   ],
   "source": [
    "df.head()"
   ]
  },
  {
   "cell_type": "code",
   "execution_count": 10,
   "id": "cb5e85f4",
   "metadata": {},
   "outputs": [],
   "source": [
    "option = st.selectbox(\n",
    "     'Choose directly your favorite bar',df['specific_bean_origin_or_bar_name']\n",
    "     )\n",
    "\n",
    "# The dropdown gives you an option to replace the filtering made from the map"
   ]
  },
  {
   "cell_type": "code",
   "execution_count": null,
   "id": "b17f22ec",
   "metadata": {},
   "outputs": [],
   "source": []
  }
 ],
 "metadata": {
  "kernelspec": {
   "display_name": "Python 3",
   "language": "python",
   "name": "python3"
  },
  "language_info": {
   "codemirror_mode": {
    "name": "ipython",
    "version": 3
   },
   "file_extension": ".py",
   "mimetype": "text/x-python",
   "name": "python",
   "nbconvert_exporter": "python",
   "pygments_lexer": "ipython3",
   "version": "3.8.8"
  }
 },
 "nbformat": 4,
 "nbformat_minor": 5
}
